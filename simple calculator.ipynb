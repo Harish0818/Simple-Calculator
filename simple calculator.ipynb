{
 "cells": [
  {
   "cell_type": "code",
   "execution_count": null,
   "id": "3195d3fb",
   "metadata": {},
   "outputs": [],
   "source": [
    "import tkinter as tk\n",
    "\n",
    "def calculate():\n",
    "    try:\n",
    "        num1 = float(entry_num1.get())\n",
    "        num2 = float(entry_num2.get())\n",
    "        choice = operation_var.get()\n",
    "\n",
    "        if choice == 1:\n",
    "            result = num1 + num2\n",
    "        elif choice == 2:\n",
    "            result = num1 - num2\n",
    "        elif choice == 3:\n",
    "            result = num1 * num2\n",
    "        elif choice == 4:\n",
    "            if num2 != 0:\n",
    "                result = num1 / num2\n",
    "            else:\n",
    "                result = \"Cannot divide by zero\"\n",
    "        else:\n",
    "            result = \"Invalid input\"\n",
    "\n",
    "        result_label.config(text=f\"Result: {result}\")\n",
    "    except ValueError:\n",
    "        result_label.config(text=\"Invalid input. Please enter valid numbers.\")\n",
    "\n",
    "#Mmain window creation\n",
    "window = tk.Tk()\n",
    "window.title(\"Simple Calculator\")\n",
    "\n",
    "# User input box\n",
    "entry_num1 = tk.Entry(window, width=15)  # Increased width\n",
    "entry_num2 = tk.Entry(window, width=15)  # Increased width\n",
    "\n",
    "# Radio buttons options\n",
    "operation_var = tk.IntVar()\n",
    "addition_radio = tk.Radiobutton(window, text=\"Addition\", variable=operation_var, value=1)\n",
    "subtraction_radio = tk.Radiobutton(window, text=\"Subtraction\", variable=operation_var, value=2)\n",
    "multiplication_radio = tk.Radiobutton(window, text=\"Multiplication\", variable=operation_var, value=3)\n",
    "division_radio = tk.Radiobutton(window, text=\"Division\", variable=operation_var, value=4)\n",
    "\n",
    "# Button to perform calculation\n",
    "calculate_button = tk.Button(window, text=\"Calculate\", command=calculate)\n",
    "\n",
    "# Label to display the result\n",
    "result_label = tk.Label(window, text=\"Result: \")\n",
    "\n",
    "#  layout\n",
    "entry_num1.grid(row=0, column=0, padx=10, pady=10)  \n",
    "entry_num2.grid(row=0, column=1, padx=10, pady=10)  \n",
    "addition_radio.grid(row=1, column=0, padx=10, pady=5)  \n",
    "subtraction_radio.grid(row=1, column=1, padx=10, pady=5)  \n",
    "multiplication_radio.grid(row=2, column=0, padx=10, pady=5)  \n",
    "division_radio.grid(row=2, column=1, padx=10, pady=5)  \n",
    "calculate_button.grid(row=3, column=0, columnspan=2, pady=10)  \n",
    "result_label.grid(row=4, column=0, columnspan=2, pady=10)  \n",
    "\n",
    "# Start the main event loop\n",
    "window.mainloop()"
   ]
  },
  {
   "cell_type": "code",
   "execution_count": null,
   "id": "36aad4b2",
   "metadata": {},
   "outputs": [],
   "source": []
  },
  {
   "cell_type": "code",
   "execution_count": null,
   "id": "f9050214",
   "metadata": {},
   "outputs": [],
   "source": []
  }
 ],
 "metadata": {
  "kernelspec": {
   "display_name": "Python 3 (ipykernel)",
   "language": "python",
   "name": "python3"
  },
  "language_info": {
   "codemirror_mode": {
    "name": "ipython",
    "version": 3
   },
   "file_extension": ".py",
   "mimetype": "text/x-python",
   "name": "python",
   "nbconvert_exporter": "python",
   "pygments_lexer": "ipython3",
   "version": "3.9.12"
  }
 },
 "nbformat": 4,
 "nbformat_minor": 5
}
